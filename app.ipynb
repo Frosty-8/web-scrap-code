{
 "cells": [
  {
   "cell_type": "code",
   "execution_count": 7,
   "id": "df8e10c5",
   "metadata": {},
   "outputs": [],
   "source": [
    "import pandas as pd\n",
    "from selenium import webdriver\n",
    "from bs4 import BeautifulSoup\n",
    "import time\n",
    "from tqdm import tqdm"
   ]
  },
  {
   "cell_type": "code",
   "execution_count": 27,
   "id": "d96b20eb",
   "metadata": {},
   "outputs": [],
   "source": [
    "driver = webdriver.Chrome()"
   ]
  },
  {
   "cell_type": "code",
   "execution_count": 28,
   "id": "e61b93f9",
   "metadata": {},
   "outputs": [],
   "source": [
    "driver.get(\"https://www.amazon.in/s?k=sunglass&crid=389J7CS8RFIK9&sprefix=sungla%2Caps%2C356&ref=nb_sb_noss_2\")"
   ]
  },
  {
   "cell_type": "markdown",
   "id": "b354f1dc",
   "metadata": {},
   "source": []
  },
  {
   "cell_type": "code",
   "execution_count": 29,
   "id": "189c4848",
   "metadata": {},
   "outputs": [],
   "source": [
    "html_data = BeautifulSoup(driver.page_source,\"html.parser\")"
   ]
  },
  {
   "cell_type": "code",
   "execution_count": 30,
   "id": "8b479985",
   "metadata": {},
   "outputs": [],
   "source": [
    "no_of_pages = int(html_data.find(\"span\",{'class':'s-pagination-item s-pagination-disabled'}).text)"
   ]
  },
  {
   "cell_type": "code",
   "execution_count": 31,
   "id": "2c5eed89",
   "metadata": {},
   "outputs": [
    {
     "data": {
      "text/plain": [
       "7"
      ]
     },
     "execution_count": 31,
     "metadata": {},
     "output_type": "execute_result"
    }
   ],
   "source": [
    "no_of_pages"
   ]
  },
  {
   "cell_type": "code",
   "execution_count": 33,
   "id": "376dd31e",
   "metadata": {},
   "outputs": [],
   "source": [
    "products = html_data.find_all(\"div\",{'data-component-type':'s-search-result'})"
   ]
  },
  {
   "cell_type": "code",
   "execution_count": 34,
   "id": "43124b86",
   "metadata": {},
   "outputs": [
    {
     "name": "stderr",
     "output_type": "stream",
     "text": [
      "100%|██████████| 7/7 [00:54<00:00,  7.82s/it]\n"
     ]
    }
   ],
   "source": [
    "titles = []\n",
    "images = []\n",
    "prices = []\n",
    "ratings = []\n",
    "urls = []\n",
    "\n",
    "for i in tqdm(range(no_of_pages)):\n",
    "    url = \"https://www.amazon.in/s?k=sunglass&crid=389J7CS8RFIK9&sprefix=sungla%2Caps%2C356&ref=nb_sb_noss_2\"+\"&page=\"+str(i+1)\n",
    "    driver.get(url)\n",
    "    time.sleep(3)\n",
    "    html_data = BeautifulSoup(driver.page_source,\"html.parser\")\n",
    "    products = html_data.find_all(\"div\",{'data-component-type':'s-search-result'})\n",
    "    for product in products:\n",
    "        title = product.h2.find(\"span\").text\n",
    "        titles.append(title)\n",
    "\n",
    "        img = product.find(\"img\",{'class':'s-image'})['src']\n",
    "        images.append(img)\n",
    "\n",
    "        rating = product.find('span',{'class':'a-icon-alt'})\n",
    "        if rating is not None:\n",
    "            rating = rating.text\n",
    "            rating = float(rating[0:4])\n",
    "        ratings.append(rating)\n",
    "\n",
    "        price = product.find('span',{'class':'a-price-whole'})\n",
    "        if price is not None:\n",
    "            price = '₹'+price.text\n",
    "        prices.append(price)\n",
    "\n",
    "        product_link = 'https://www.amazon.in'+ product.find('a',{'class':'a-link-normal s-line-clamp-2 s-link-style a-text-normal'})['href']\n",
    "        urls.append(product_link)"
   ]
  },
  {
   "cell_type": "code",
   "execution_count": 36,
   "id": "cc0b2e9a",
   "metadata": {},
   "outputs": [
    {
     "data": {
      "text/plain": [
       "390"
      ]
     },
     "execution_count": 36,
     "metadata": {},
     "output_type": "execute_result"
    }
   ],
   "source": [
    "len(titles)"
   ]
  },
  {
   "cell_type": "code",
   "execution_count": 37,
   "id": "9375f859",
   "metadata": {},
   "outputs": [
    {
     "name": "stdout",
     "output_type": "stream",
     "text": [
      "390\n"
     ]
    }
   ],
   "source": [
    "print(len(prices))"
   ]
  },
  {
   "cell_type": "code",
   "execution_count": 39,
   "id": "bfc68609",
   "metadata": {},
   "outputs": [],
   "source": [
    "data = pd.DataFrame({\n",
    "    'titles':titles,\n",
    "    'images':images,\n",
    "    'prices':prices,\n",
    "    'ratings':ratings,\n",
    "    'purls':urls\n",
    "})"
   ]
  },
  {
   "cell_type": "code",
   "execution_count": 40,
   "id": "050278eb",
   "metadata": {},
   "outputs": [
    {
     "data": {
      "text/html": [
       "<div>\n",
       "<style scoped>\n",
       "    .dataframe tbody tr th:only-of-type {\n",
       "        vertical-align: middle;\n",
       "    }\n",
       "\n",
       "    .dataframe tbody tr th {\n",
       "        vertical-align: top;\n",
       "    }\n",
       "\n",
       "    .dataframe thead th {\n",
       "        text-align: right;\n",
       "    }\n",
       "</style>\n",
       "<table border=\"1\" class=\"dataframe\">\n",
       "  <thead>\n",
       "    <tr style=\"text-align: right;\">\n",
       "      <th></th>\n",
       "      <th>titles</th>\n",
       "      <th>images</th>\n",
       "      <th>prices</th>\n",
       "      <th>ratings</th>\n",
       "      <th>purls</th>\n",
       "    </tr>\n",
       "  </thead>\n",
       "  <tbody>\n",
       "    <tr>\n",
       "      <th>0</th>\n",
       "      <td>Fastrack</td>\n",
       "      <td>https://m.media-amazon.com/images/I/61xbGkFmwv...</td>\n",
       "      <td>₹989</td>\n",
       "      <td>4.0</td>\n",
       "      <td>https://www.amazon.in/sspa/click?ie=UTF8&amp;spc=M...</td>\n",
       "    </tr>\n",
       "    <tr>\n",
       "      <th>1</th>\n",
       "      <td>Fastrack</td>\n",
       "      <td>https://m.media-amazon.com/images/I/313a79CkfA...</td>\n",
       "      <td>₹759</td>\n",
       "      <td>4.0</td>\n",
       "      <td>https://www.amazon.in/sspa/click?ie=UTF8&amp;spc=M...</td>\n",
       "    </tr>\n",
       "    <tr>\n",
       "      <th>2</th>\n",
       "      <td>Dervin</td>\n",
       "      <td>https://m.media-amazon.com/images/I/51hVf+IEFk...</td>\n",
       "      <td>₹426</td>\n",
       "      <td>4.6</td>\n",
       "      <td>https://www.amazon.in/sspa/click?ie=UTF8&amp;spc=M...</td>\n",
       "    </tr>\n",
       "    <tr>\n",
       "      <th>3</th>\n",
       "      <td>Fastrack</td>\n",
       "      <td>https://m.media-amazon.com/images/I/81GtbybTCo...</td>\n",
       "      <td>₹961</td>\n",
       "      <td>4.1</td>\n",
       "      <td>https://www.amazon.in/sspa/click?ie=UTF8&amp;spc=M...</td>\n",
       "    </tr>\n",
       "    <tr>\n",
       "      <th>4</th>\n",
       "      <td>VINCENT CHASE EYEWEAR</td>\n",
       "      <td>https://m.media-amazon.com/images/I/41Dr9I4x1E...</td>\n",
       "      <td>₹529</td>\n",
       "      <td>4.1</td>\n",
       "      <td>https://www.amazon.in/Polarized-Protected-Sung...</td>\n",
       "    </tr>\n",
       "    <tr>\n",
       "      <th>...</th>\n",
       "      <td>...</td>\n",
       "      <td>...</td>\n",
       "      <td>...</td>\n",
       "      <td>...</td>\n",
       "      <td>...</td>\n",
       "    </tr>\n",
       "    <tr>\n",
       "      <th>385</th>\n",
       "      <td>grey jack</td>\n",
       "      <td>https://m.media-amazon.com/images/I/61mqLx8scC...</td>\n",
       "      <td>₹718</td>\n",
       "      <td>3.7</td>\n",
       "      <td>https://www.amazon.in/grey-jack-Semi-Rimless-S...</td>\n",
       "    </tr>\n",
       "    <tr>\n",
       "      <th>386</th>\n",
       "      <td>OPTICSFIT</td>\n",
       "      <td>https://m.media-amazon.com/images/I/41c75NXa50...</td>\n",
       "      <td>₹589</td>\n",
       "      <td>4.4</td>\n",
       "      <td>https://www.amazon.in/sspa/click?ie=UTF8&amp;spc=M...</td>\n",
       "    </tr>\n",
       "    <tr>\n",
       "      <th>387</th>\n",
       "      <td>Voyage</td>\n",
       "      <td>https://m.media-amazon.com/images/I/51fNP30HB0...</td>\n",
       "      <td>₹655</td>\n",
       "      <td>4.1</td>\n",
       "      <td>https://www.amazon.in/sspa/click?ie=UTF8&amp;spc=M...</td>\n",
       "    </tr>\n",
       "    <tr>\n",
       "      <th>388</th>\n",
       "      <td>OAKTER</td>\n",
       "      <td>https://m.media-amazon.com/images/I/61q+-zmDqd...</td>\n",
       "      <td>₹2,499</td>\n",
       "      <td>4.2</td>\n",
       "      <td>https://www.amazon.in/sspa/click?ie=UTF8&amp;spc=M...</td>\n",
       "    </tr>\n",
       "    <tr>\n",
       "      <th>389</th>\n",
       "      <td>Eyewearlabs</td>\n",
       "      <td>https://m.media-amazon.com/images/I/5126OZjffd...</td>\n",
       "      <td>₹1,799</td>\n",
       "      <td>3.7</td>\n",
       "      <td>https://www.amazon.in/sspa/click?ie=UTF8&amp;spc=M...</td>\n",
       "    </tr>\n",
       "  </tbody>\n",
       "</table>\n",
       "<p>390 rows × 5 columns</p>\n",
       "</div>"
      ],
      "text/plain": [
       "                    titles                                             images  \\\n",
       "0                 Fastrack  https://m.media-amazon.com/images/I/61xbGkFmwv...   \n",
       "1                 Fastrack  https://m.media-amazon.com/images/I/313a79CkfA...   \n",
       "2                   Dervin  https://m.media-amazon.com/images/I/51hVf+IEFk...   \n",
       "3                 Fastrack  https://m.media-amazon.com/images/I/81GtbybTCo...   \n",
       "4    VINCENT CHASE EYEWEAR  https://m.media-amazon.com/images/I/41Dr9I4x1E...   \n",
       "..                     ...                                                ...   \n",
       "385              grey jack  https://m.media-amazon.com/images/I/61mqLx8scC...   \n",
       "386              OPTICSFIT  https://m.media-amazon.com/images/I/41c75NXa50...   \n",
       "387                 Voyage  https://m.media-amazon.com/images/I/51fNP30HB0...   \n",
       "388                 OAKTER  https://m.media-amazon.com/images/I/61q+-zmDqd...   \n",
       "389            Eyewearlabs  https://m.media-amazon.com/images/I/5126OZjffd...   \n",
       "\n",
       "     prices  ratings                                              purls  \n",
       "0      ₹989      4.0  https://www.amazon.in/sspa/click?ie=UTF8&spc=M...  \n",
       "1      ₹759      4.0  https://www.amazon.in/sspa/click?ie=UTF8&spc=M...  \n",
       "2      ₹426      4.6  https://www.amazon.in/sspa/click?ie=UTF8&spc=M...  \n",
       "3      ₹961      4.1  https://www.amazon.in/sspa/click?ie=UTF8&spc=M...  \n",
       "4      ₹529      4.1  https://www.amazon.in/Polarized-Protected-Sung...  \n",
       "..      ...      ...                                                ...  \n",
       "385    ₹718      3.7  https://www.amazon.in/grey-jack-Semi-Rimless-S...  \n",
       "386    ₹589      4.4  https://www.amazon.in/sspa/click?ie=UTF8&spc=M...  \n",
       "387    ₹655      4.1  https://www.amazon.in/sspa/click?ie=UTF8&spc=M...  \n",
       "388  ₹2,499      4.2  https://www.amazon.in/sspa/click?ie=UTF8&spc=M...  \n",
       "389  ₹1,799      3.7  https://www.amazon.in/sspa/click?ie=UTF8&spc=M...  \n",
       "\n",
       "[390 rows x 5 columns]"
      ]
     },
     "execution_count": 40,
     "metadata": {},
     "output_type": "execute_result"
    }
   ],
   "source": [
    "data"
   ]
  },
  {
   "cell_type": "code",
   "execution_count": 41,
   "id": "28916ab7",
   "metadata": {},
   "outputs": [],
   "source": [
    "data.to_csv('sunglass.csv',index=False)"
   ]
  }
 ],
 "metadata": {
  "kernelspec": {
   "display_name": "venv",
   "language": "python",
   "name": "python3"
  },
  "language_info": {
   "codemirror_mode": {
    "name": "ipython",
    "version": 3
   },
   "file_extension": ".py",
   "mimetype": "text/x-python",
   "name": "python",
   "nbconvert_exporter": "python",
   "pygments_lexer": "ipython3",
   "version": "3.12.6"
  }
 },
 "nbformat": 4,
 "nbformat_minor": 5
}
